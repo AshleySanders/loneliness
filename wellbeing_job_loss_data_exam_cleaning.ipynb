{
 "cells": [
  {
   "cell_type": "code",
   "execution_count": 1,
   "id": "3713347a-6162-4503-94fa-35d2813cfe30",
   "metadata": {
    "editable": true,
    "slideshow": {
     "slide_type": ""
    },
    "tags": []
   },
   "outputs": [],
   "source": [
    "# Set up environment\n",
    "\n",
    "import pandas as pd\n",
    "import numpy as np\n",
    "import matplotlib.pyplot as plt\n",
    "import sklearn\n",
    "import graphviz\n",
    "\n",
    "%matplotlib inline\n",
    "import matplotlib as mpl #add'1 plotting functionality\n",
    "mpl.rcParams['figure.dpi'] = 400 # high res figures"
   ]
  },
  {
   "cell_type": "code",
   "execution_count": 4,
   "id": "059cf8a4-ee21-4d7b-80d7-40ee51f1dca7",
   "metadata": {
    "editable": true,
    "slideshow": {
     "slide_type": ""
    },
    "tags": []
   },
   "outputs": [],
   "source": [
    "# Import dataset as dataframe\n",
    "\n",
    "df = pd.read_excel(\"/Users/ashleysanders/Code/DataSci/data/Wellbeing_job-loss/wellbeing_job_loss.xlsx\")"
   ]
  },
  {
   "cell_type": "markdown",
   "id": "7e9f64d4-30c8-44f1-80e9-7da58cd221d0",
   "metadata": {},
   "source": [
    "## Initial data exploration"
   ]
  },
  {
   "cell_type": "code",
   "execution_count": 5,
   "id": "f11201fa-98b4-4b2c-8c45-93c138444b70",
   "metadata": {},
   "outputs": [
    {
     "data": {
      "text/html": [
       "<div>\n",
       "<style scoped>\n",
       "    .dataframe tbody tr th:only-of-type {\n",
       "        vertical-align: middle;\n",
       "    }\n",
       "\n",
       "    .dataframe tbody tr th {\n",
       "        vertical-align: top;\n",
       "    }\n",
       "\n",
       "    .dataframe thead th {\n",
       "        text-align: right;\n",
       "    }\n",
       "</style>\n",
       "<table border=\"1\" class=\"dataframe\">\n",
       "  <thead>\n",
       "    <tr style=\"text-align: right;\">\n",
       "      <th></th>\n",
       "      <th>country-name</th>\n",
       "      <th>country</th>\n",
       "      <th>region</th>\n",
       "      <th>age_group</th>\n",
       "      <th>gender</th>\n",
       "      <th>income_group</th>\n",
       "      <th>smoker</th>\n",
       "      <th>current_living_area</th>\n",
       "      <th>mortgage</th>\n",
       "      <th>boredom</th>\n",
       "      <th>loneliness</th>\n",
       "      <th>troublesleep</th>\n",
       "      <th>anxiety</th>\n",
       "      <th>lostjob</th>\n",
       "      <th>MWLI</th>\n",
       "      <th>laborstatus</th>\n",
       "      <th>attended_religious_services</th>\n",
       "    </tr>\n",
       "  </thead>\n",
       "  <tbody>\n",
       "    <tr>\n",
       "      <th>0</th>\n",
       "      <td>china</td>\n",
       "      <td>1</td>\n",
       "      <td>1</td>\n",
       "      <td>1.0</td>\n",
       "      <td>1.0</td>\n",
       "      <td>3.0</td>\n",
       "      <td>0</td>\n",
       "      <td>0</td>\n",
       "      <td>0</td>\n",
       "      <td>1</td>\n",
       "      <td>0</td>\n",
       "      <td>0</td>\n",
       "      <td>0</td>\n",
       "      <td>0</td>\n",
       "      <td>-0.516047</td>\n",
       "      <td>2</td>\n",
       "      <td>0</td>\n",
       "    </tr>\n",
       "    <tr>\n",
       "      <th>1</th>\n",
       "      <td>china</td>\n",
       "      <td>1</td>\n",
       "      <td>1</td>\n",
       "      <td>5.0</td>\n",
       "      <td>0.0</td>\n",
       "      <td>1.0</td>\n",
       "      <td>0</td>\n",
       "      <td>2</td>\n",
       "      <td>0</td>\n",
       "      <td>0</td>\n",
       "      <td>0</td>\n",
       "      <td>0</td>\n",
       "      <td>0</td>\n",
       "      <td>1</td>\n",
       "      <td>-1.203705</td>\n",
       "      <td>1</td>\n",
       "      <td>0</td>\n",
       "    </tr>\n",
       "    <tr>\n",
       "      <th>2</th>\n",
       "      <td>china</td>\n",
       "      <td>1</td>\n",
       "      <td>1</td>\n",
       "      <td>3.0</td>\n",
       "      <td>1.0</td>\n",
       "      <td>1.0</td>\n",
       "      <td>0</td>\n",
       "      <td>2</td>\n",
       "      <td>0</td>\n",
       "      <td>1</td>\n",
       "      <td>1</td>\n",
       "      <td>0</td>\n",
       "      <td>1</td>\n",
       "      <td>1</td>\n",
       "      <td>1.295818</td>\n",
       "      <td>3</td>\n",
       "      <td>0</td>\n",
       "    </tr>\n",
       "    <tr>\n",
       "      <th>3</th>\n",
       "      <td>china</td>\n",
       "      <td>1</td>\n",
       "      <td>1</td>\n",
       "      <td>0.0</td>\n",
       "      <td>0.0</td>\n",
       "      <td>0.0</td>\n",
       "      <td>0</td>\n",
       "      <td>2</td>\n",
       "      <td>0</td>\n",
       "      <td>0</td>\n",
       "      <td>0</td>\n",
       "      <td>0</td>\n",
       "      <td>0</td>\n",
       "      <td>0</td>\n",
       "      <td>-1.203705</td>\n",
       "      <td>0</td>\n",
       "      <td>0</td>\n",
       "    </tr>\n",
       "    <tr>\n",
       "      <th>4</th>\n",
       "      <td>china</td>\n",
       "      <td>1</td>\n",
       "      <td>1</td>\n",
       "      <td>5.0</td>\n",
       "      <td>0.0</td>\n",
       "      <td>0.0</td>\n",
       "      <td>1</td>\n",
       "      <td>2</td>\n",
       "      <td>0</td>\n",
       "      <td>1</td>\n",
       "      <td>0</td>\n",
       "      <td>1</td>\n",
       "      <td>1</td>\n",
       "      <td>1</td>\n",
       "      <td>1.261216</td>\n",
       "      <td>3</td>\n",
       "      <td>0</td>\n",
       "    </tr>\n",
       "  </tbody>\n",
       "</table>\n",
       "</div>"
      ],
      "text/plain": [
       "  country-name  country  region  age_group  gender  income_group  smoker  \\\n",
       "0        china        1       1        1.0     1.0           3.0       0   \n",
       "1        china        1       1        5.0     0.0           1.0       0   \n",
       "2        china        1       1        3.0     1.0           1.0       0   \n",
       "3        china        1       1        0.0     0.0           0.0       0   \n",
       "4        china        1       1        5.0     0.0           0.0       1   \n",
       "\n",
       "   current_living_area  mortgage  boredom  loneliness  troublesleep  anxiety  \\\n",
       "0                    0         0        1           0             0        0   \n",
       "1                    2         0        0           0             0        0   \n",
       "2                    2         0        1           1             0        1   \n",
       "3                    2         0        0           0             0        0   \n",
       "4                    2         0        1           0             1        1   \n",
       "\n",
       "   lostjob      MWLI  laborstatus  attended_religious_services  \n",
       "0        0 -0.516047            2                            0  \n",
       "1        1 -1.203705            1                            0  \n",
       "2        1  1.295818            3                            0  \n",
       "3        0 -1.203705            0                            0  \n",
       "4        1  1.261216            3                            0  "
      ]
     },
     "execution_count": 5,
     "metadata": {},
     "output_type": "execute_result"
    }
   ],
   "source": [
    "df.head()"
   ]
  },
  {
   "cell_type": "code",
   "execution_count": 6,
   "id": "affe4f71-ca40-448d-ac90-36ef3ccdd25d",
   "metadata": {},
   "outputs": [
    {
     "data": {
      "text/plain": [
       "(6089, 17)"
      ]
     },
     "execution_count": 6,
     "metadata": {},
     "output_type": "execute_result"
    }
   ],
   "source": [
    "df.shape"
   ]
  },
  {
   "cell_type": "code",
   "execution_count": 7,
   "id": "72afd7e5-6ee9-461b-8e29-2cae55c60ccd",
   "metadata": {},
   "outputs": [
    {
     "name": "stdout",
     "output_type": "stream",
     "text": [
      "<class 'pandas.core.frame.DataFrame'>\n",
      "RangeIndex: 6089 entries, 0 to 6088\n",
      "Data columns (total 17 columns):\n",
      " #   Column                       Non-Null Count  Dtype  \n",
      "---  ------                       --------------  -----  \n",
      " 0   country-name                 6089 non-null   object \n",
      " 1   country                      6089 non-null   int64  \n",
      " 2   region                       6089 non-null   int64  \n",
      " 3   age_group                    6084 non-null   float64\n",
      " 4   gender                       6085 non-null   float64\n",
      " 5   income_group                 5950 non-null   float64\n",
      " 6   smoker                       6089 non-null   int64  \n",
      " 7   current_living_area          6089 non-null   int64  \n",
      " 8   mortgage                     6089 non-null   int64  \n",
      " 9   boredom                      6089 non-null   int64  \n",
      " 10  loneliness                   6089 non-null   int64  \n",
      " 11  troublesleep                 6089 non-null   int64  \n",
      " 12  anxiety                      6089 non-null   int64  \n",
      " 13  lostjob                      6089 non-null   int64  \n",
      " 14  MWLI                         6089 non-null   float64\n",
      " 15  laborstatus                  6089 non-null   int64  \n",
      " 16  attended_religious_services  6089 non-null   int64  \n",
      "dtypes: float64(4), int64(12), object(1)\n",
      "memory usage: 808.8+ KB\n"
     ]
    }
   ],
   "source": [
    "df.info()"
   ]
  },
  {
   "cell_type": "markdown",
   "id": "ebe3e1b3-1f62-4221-aa26-60ede802c12d",
   "metadata": {},
   "source": [
    "---------------------------------------------------------\n",
    "It looks like there are 5 missing values for age-group; 4 for gender; and 145 for income_group. This bears further examination to determine possible reasons and meanings for the missing data before determinig how to handle them.\n",
    "\n",
    "These variables are also listed as float instead of integers, so I will change convert these variables for consistency after examining their value counts. "
   ]
  },
  {
   "cell_type": "code",
   "execution_count": 22,
   "id": "d989991c-d710-4c8c-8032-04b475fd0b3d",
   "metadata": {},
   "outputs": [
    {
     "data": {
      "text/plain": [
       "array(['china', 'italy', 'japan', 'korea', 'uk', 'us'], dtype=object)"
      ]
     },
     "execution_count": 22,
     "metadata": {},
     "output_type": "execute_result"
    }
   ],
   "source": [
    "df['country-name'].unique()"
   ]
  },
  {
   "cell_type": "code",
   "execution_count": 25,
   "id": "5cd627d8-dfad-4578-ad42-b412c870df7b",
   "metadata": {},
   "outputs": [
    {
     "data": {
      "text/plain": [
       "country-name\n",
       "us       1055\n",
       "italy    1044\n",
       "uk       1016\n",
       "japan    1015\n",
       "china     996\n",
       "korea     963\n",
       "Name: count, dtype: int64"
      ]
     },
     "execution_count": 25,
     "metadata": {},
     "output_type": "execute_result"
    }
   ],
   "source": [
    "df['country-name'].value_counts()"
   ]
  },
  {
   "cell_type": "code",
   "execution_count": 8,
   "id": "bffa6440-7c8a-441f-b2b5-af98a18470a7",
   "metadata": {},
   "outputs": [
    {
     "data": {
      "text/plain": [
       "age_group\n",
       "3.0    1156\n",
       "4.0    1132\n",
       "2.0    1077\n",
       "0.0    1035\n",
       "5.0     948\n",
       "1.0     736\n",
       "Name: count, dtype: int64"
      ]
     },
     "execution_count": 8,
     "metadata": {},
     "output_type": "execute_result"
    }
   ],
   "source": [
    "df['age_group'].value_counts()"
   ]
  },
  {
   "cell_type": "markdown",
   "id": "1bfdec8b-1a4f-483b-8454-5f0a4ebd7883",
   "metadata": {},
   "source": [
    "**Definition of age groups:** \n",
    "- 0: over 65\n",
    "- 1: 18-25\n",
    "- 2: 26-35\n",
    "- 3: 36-45\n",
    "- 4: 46-55\n",
    "- 5: 56-65"
   ]
  },
  {
   "cell_type": "code",
   "execution_count": 69,
   "id": "cb260b94-94fc-430c-bc64-e8c88614e179",
   "metadata": {},
   "outputs": [
    {
     "data": {
      "text/plain": [
       "gender\n",
       "1.0    3138\n",
       "0.0    2947\n",
       "Name: count, dtype: int64"
      ]
     },
     "execution_count": 69,
     "metadata": {},
     "output_type": "execute_result"
    }
   ],
   "source": [
    "df['gender'].value_counts() # 0: male and 1: female. Note that there were likely only 2 options in the survey."
   ]
  },
  {
   "cell_type": "markdown",
   "id": "94d4cb2f-4b4b-47e9-bd28-15b2333bfc7f",
   "metadata": {},
   "source": [
    "Roughly equal numbers of men and women included in the study."
   ]
  },
  {
   "cell_type": "code",
   "execution_count": 11,
   "id": "d3bd4f76-9275-4582-a35e-c60a4a131be8",
   "metadata": {},
   "outputs": [
    {
     "data": {
      "text/plain": [
       "6085"
      ]
     },
     "execution_count": 11,
     "metadata": {},
     "output_type": "execute_result"
    }
   ],
   "source": [
    "sum(df['gender'].value_counts()) # There are indeed 4 missing values."
   ]
  },
  {
   "cell_type": "code",
   "execution_count": 12,
   "id": "2c1854f2-5308-4d3a-b66f-6c970740c195",
   "metadata": {},
   "outputs": [
    {
     "data": {
      "text/plain": [
       "income_group\n",
       "3.0    1315\n",
       "2.0    1269\n",
       "0.0    1137\n",
       "1.0    1126\n",
       "4.0    1103\n",
       "Name: count, dtype: int64"
      ]
     },
     "execution_count": 12,
     "metadata": {},
     "output_type": "execute_result"
    }
   ],
   "source": [
    "df['income_group'].value_counts()"
   ]
  },
  {
   "cell_type": "markdown",
   "id": "229ff006-9f3e-4191-bf00-378aa45d1ff7",
   "metadata": {},
   "source": [
    "**Definition of income groups:**\n",
    "This is a categorical variable for different income groups.\n",
    "- 0: the lowest quantile of income\n",
    "- 1: the second quantile of income\n",
    "- 2: the third quantile of income\n",
    "- 3: the fourth quantile of income\n",
    "- 4: the highest quantile of income"
   ]
  },
  {
   "cell_type": "code",
   "execution_count": 13,
   "id": "7d329948-b258-4b81-8a8c-597063f6e9ef",
   "metadata": {},
   "outputs": [
    {
     "data": {
      "text/plain": [
       "5950"
      ]
     },
     "execution_count": 13,
     "metadata": {},
     "output_type": "execute_result"
    }
   ],
   "source": [
    "sum(df['income_group'].value_counts())"
   ]
  },
  {
   "cell_type": "markdown",
   "id": "1845aabf-c4bd-44b7-974a-f79bad84655c",
   "metadata": {},
   "source": [
    "The income_group variable has the highest number of missing values, but no reason is given for them in the data dictionary, so these cases need further examination."
   ]
  },
  {
   "cell_type": "markdown",
   "id": "1a93acdb-96db-4a34-a6dc-ddf967b7e866",
   "metadata": {},
   "source": [
    "## Missing Value Analysis"
   ]
  },
  {
   "cell_type": "code",
   "execution_count": 27,
   "id": "e18a93c8-96a8-49cc-b15b-3015196b9382",
   "metadata": {
    "editable": true,
    "slideshow": {
     "slide_type": ""
    },
    "tags": []
   },
   "outputs": [
    {
     "data": {
      "text/plain": [
       "income_group\n",
       "False    5950\n",
       "True      139\n",
       "Name: count, dtype: int64"
      ]
     },
     "execution_count": 27,
     "metadata": {},
     "output_type": "execute_result"
    }
   ],
   "source": [
    "df['income_group'].isna().value_counts()"
   ]
  },
  {
   "cell_type": "code",
   "execution_count": 52,
   "id": "1e6303e5-3988-4a0d-8a0c-c7d2f8b130a4",
   "metadata": {
    "editable": true,
    "slideshow": {
     "slide_type": ""
    },
    "tags": []
   },
   "outputs": [
    {
     "data": {
      "text/plain": [
       "income_group\n",
       "False    5950\n",
       "True      139\n",
       "Name: count, dtype: int64"
      ]
     },
     "execution_count": 52,
     "metadata": {},
     "output_type": "execute_result"
    }
   ],
   "source": [
    "# Create a Boolean mask to identify the missing values in the income_group column\n",
    "income_mask = df['income_group'].isnull() \n",
    "\n",
    "income_mask.value_counts() # Verify that there are 139 missing values identified in the mask."
   ]
  },
  {
   "cell_type": "code",
   "execution_count": 50,
   "id": "82f570c7-bf7c-4577-821e-198006de5272",
   "metadata": {
    "editable": true,
    "scrolled": true,
    "slideshow": {
     "slide_type": ""
    },
    "tags": []
   },
   "outputs": [
    {
     "data": {
      "text/html": [
       "<div>\n",
       "<style scoped>\n",
       "    .dataframe tbody tr th:only-of-type {\n",
       "        vertical-align: middle;\n",
       "    }\n",
       "\n",
       "    .dataframe tbody tr th {\n",
       "        vertical-align: top;\n",
       "    }\n",
       "\n",
       "    .dataframe thead th {\n",
       "        text-align: right;\n",
       "    }\n",
       "</style>\n",
       "<table border=\"1\" class=\"dataframe\">\n",
       "  <thead>\n",
       "    <tr style=\"text-align: right;\">\n",
       "      <th></th>\n",
       "      <th>country-name</th>\n",
       "      <th>country</th>\n",
       "      <th>region</th>\n",
       "      <th>age_group</th>\n",
       "      <th>gender</th>\n",
       "      <th>income_group</th>\n",
       "      <th>smoker</th>\n",
       "      <th>current_living_area</th>\n",
       "      <th>mortgage</th>\n",
       "      <th>boredom</th>\n",
       "      <th>loneliness</th>\n",
       "      <th>troublesleep</th>\n",
       "      <th>anxiety</th>\n",
       "      <th>lostjob</th>\n",
       "      <th>MWLI</th>\n",
       "      <th>laborstatus</th>\n",
       "      <th>attended_religious_services</th>\n",
       "    </tr>\n",
       "  </thead>\n",
       "  <tbody>\n",
       "    <tr>\n",
       "      <th>253</th>\n",
       "      <td>china</td>\n",
       "      <td>1</td>\n",
       "      <td>4</td>\n",
       "      <td>1.0</td>\n",
       "      <td>0.0</td>\n",
       "      <td>NaN</td>\n",
       "      <td>0</td>\n",
       "      <td>2</td>\n",
       "      <td>0</td>\n",
       "      <td>0</td>\n",
       "      <td>0</td>\n",
       "      <td>0</td>\n",
       "      <td>0</td>\n",
       "      <td>0</td>\n",
       "      <td>-1.203705</td>\n",
       "      <td>0</td>\n",
       "      <td>0</td>\n",
       "    </tr>\n",
       "    <tr>\n",
       "      <th>332</th>\n",
       "      <td>china</td>\n",
       "      <td>1</td>\n",
       "      <td>7</td>\n",
       "      <td>1.0</td>\n",
       "      <td>1.0</td>\n",
       "      <td>NaN</td>\n",
       "      <td>0</td>\n",
       "      <td>0</td>\n",
       "      <td>0</td>\n",
       "      <td>0</td>\n",
       "      <td>0</td>\n",
       "      <td>0</td>\n",
       "      <td>0</td>\n",
       "      <td>0</td>\n",
       "      <td>-1.203705</td>\n",
       "      <td>0</td>\n",
       "      <td>0</td>\n",
       "    </tr>\n",
       "    <tr>\n",
       "      <th>1199</th>\n",
       "      <td>italy</td>\n",
       "      <td>2</td>\n",
       "      <td>27</td>\n",
       "      <td>5.0</td>\n",
       "      <td>1.0</td>\n",
       "      <td>NaN</td>\n",
       "      <td>1</td>\n",
       "      <td>2</td>\n",
       "      <td>0</td>\n",
       "      <td>0</td>\n",
       "      <td>0</td>\n",
       "      <td>0</td>\n",
       "      <td>0</td>\n",
       "      <td>0</td>\n",
       "      <td>-1.203705</td>\n",
       "      <td>0</td>\n",
       "      <td>0</td>\n",
       "    </tr>\n",
       "    <tr>\n",
       "      <th>1304</th>\n",
       "      <td>italy</td>\n",
       "      <td>2</td>\n",
       "      <td>29</td>\n",
       "      <td>4.0</td>\n",
       "      <td>1.0</td>\n",
       "      <td>NaN</td>\n",
       "      <td>1</td>\n",
       "      <td>2</td>\n",
       "      <td>0</td>\n",
       "      <td>0</td>\n",
       "      <td>0</td>\n",
       "      <td>1</td>\n",
       "      <td>1</td>\n",
       "      <td>0</td>\n",
       "      <td>0.573558</td>\n",
       "      <td>0</td>\n",
       "      <td>0</td>\n",
       "    </tr>\n",
       "    <tr>\n",
       "      <th>1318</th>\n",
       "      <td>italy</td>\n",
       "      <td>2</td>\n",
       "      <td>29</td>\n",
       "      <td>1.0</td>\n",
       "      <td>1.0</td>\n",
       "      <td>NaN</td>\n",
       "      <td>0</td>\n",
       "      <td>1</td>\n",
       "      <td>0</td>\n",
       "      <td>0</td>\n",
       "      <td>0</td>\n",
       "      <td>0</td>\n",
       "      <td>1</td>\n",
       "      <td>1</td>\n",
       "      <td>-0.449369</td>\n",
       "      <td>2</td>\n",
       "      <td>0</td>\n",
       "    </tr>\n",
       "    <tr>\n",
       "      <th>1378</th>\n",
       "      <td>italy</td>\n",
       "      <td>2</td>\n",
       "      <td>30</td>\n",
       "      <td>5.0</td>\n",
       "      <td>1.0</td>\n",
       "      <td>NaN</td>\n",
       "      <td>0</td>\n",
       "      <td>2</td>\n",
       "      <td>0</td>\n",
       "      <td>0</td>\n",
       "      <td>0</td>\n",
       "      <td>0</td>\n",
       "      <td>0</td>\n",
       "      <td>0</td>\n",
       "      <td>-1.203705</td>\n",
       "      <td>3</td>\n",
       "      <td>0</td>\n",
       "    </tr>\n",
       "    <tr>\n",
       "      <th>1426</th>\n",
       "      <td>italy</td>\n",
       "      <td>2</td>\n",
       "      <td>31</td>\n",
       "      <td>1.0</td>\n",
       "      <td>1.0</td>\n",
       "      <td>NaN</td>\n",
       "      <td>0</td>\n",
       "      <td>1</td>\n",
       "      <td>1</td>\n",
       "      <td>0</td>\n",
       "      <td>0</td>\n",
       "      <td>0</td>\n",
       "      <td>0</td>\n",
       "      <td>1</td>\n",
       "      <td>-1.203705</td>\n",
       "      <td>2</td>\n",
       "      <td>0</td>\n",
       "    </tr>\n",
       "    <tr>\n",
       "      <th>1454</th>\n",
       "      <td>italy</td>\n",
       "      <td>2</td>\n",
       "      <td>31</td>\n",
       "      <td>4.0</td>\n",
       "      <td>0.0</td>\n",
       "      <td>NaN</td>\n",
       "      <td>0</td>\n",
       "      <td>1</td>\n",
       "      <td>0</td>\n",
       "      <td>1</td>\n",
       "      <td>1</td>\n",
       "      <td>0</td>\n",
       "      <td>1</td>\n",
       "      <td>1</td>\n",
       "      <td>1.295818</td>\n",
       "      <td>1</td>\n",
       "      <td>0</td>\n",
       "    </tr>\n",
       "    <tr>\n",
       "      <th>1496</th>\n",
       "      <td>italy</td>\n",
       "      <td>2</td>\n",
       "      <td>31</td>\n",
       "      <td>5.0</td>\n",
       "      <td>0.0</td>\n",
       "      <td>NaN</td>\n",
       "      <td>1</td>\n",
       "      <td>2</td>\n",
       "      <td>0</td>\n",
       "      <td>1</td>\n",
       "      <td>1</td>\n",
       "      <td>1</td>\n",
       "      <td>1</td>\n",
       "      <td>1</td>\n",
       "      <td>2.318745</td>\n",
       "      <td>0</td>\n",
       "      <td>0</td>\n",
       "    </tr>\n",
       "    <tr>\n",
       "      <th>1571</th>\n",
       "      <td>italy</td>\n",
       "      <td>2</td>\n",
       "      <td>31</td>\n",
       "      <td>4.0</td>\n",
       "      <td>1.0</td>\n",
       "      <td>NaN</td>\n",
       "      <td>0</td>\n",
       "      <td>2</td>\n",
       "      <td>0</td>\n",
       "      <td>1</td>\n",
       "      <td>1</td>\n",
       "      <td>1</td>\n",
       "      <td>1</td>\n",
       "      <td>0</td>\n",
       "      <td>2.318745</td>\n",
       "      <td>1</td>\n",
       "      <td>0</td>\n",
       "    </tr>\n",
       "  </tbody>\n",
       "</table>\n",
       "</div>"
      ],
      "text/plain": [
       "     country-name  country  region  age_group  gender  income_group  smoker  \\\n",
       "253         china        1       4        1.0     0.0           NaN       0   \n",
       "332         china        1       7        1.0     1.0           NaN       0   \n",
       "1199        italy        2      27        5.0     1.0           NaN       1   \n",
       "1304        italy        2      29        4.0     1.0           NaN       1   \n",
       "1318        italy        2      29        1.0     1.0           NaN       0   \n",
       "1378        italy        2      30        5.0     1.0           NaN       0   \n",
       "1426        italy        2      31        1.0     1.0           NaN       0   \n",
       "1454        italy        2      31        4.0     0.0           NaN       0   \n",
       "1496        italy        2      31        5.0     0.0           NaN       1   \n",
       "1571        italy        2      31        4.0     1.0           NaN       0   \n",
       "\n",
       "      current_living_area  mortgage  boredom  loneliness  troublesleep  \\\n",
       "253                     2         0        0           0             0   \n",
       "332                     0         0        0           0             0   \n",
       "1199                    2         0        0           0             0   \n",
       "1304                    2         0        0           0             1   \n",
       "1318                    1         0        0           0             0   \n",
       "1378                    2         0        0           0             0   \n",
       "1426                    1         1        0           0             0   \n",
       "1454                    1         0        1           1             0   \n",
       "1496                    2         0        1           1             1   \n",
       "1571                    2         0        1           1             1   \n",
       "\n",
       "      anxiety  lostjob      MWLI  laborstatus  attended_religious_services  \n",
       "253         0        0 -1.203705            0                            0  \n",
       "332         0        0 -1.203705            0                            0  \n",
       "1199        0        0 -1.203705            0                            0  \n",
       "1304        1        0  0.573558            0                            0  \n",
       "1318        1        1 -0.449369            2                            0  \n",
       "1378        0        0 -1.203705            3                            0  \n",
       "1426        0        1 -1.203705            2                            0  \n",
       "1454        1        1  1.295818            1                            0  \n",
       "1496        1        1  2.318745            0                            0  \n",
       "1571        1        0  2.318745            1                            0  "
      ]
     },
     "execution_count": 50,
     "metadata": {},
     "output_type": "execute_result"
    }
   ],
   "source": [
    "# Show the rows with missing values\n",
    "income_missing = df[income_mask]\n",
    "income_missing.head(10)"
   ]
  },
  {
   "cell_type": "markdown",
   "id": "a5f28809-456c-438e-985f-fe1b6e344425",
   "metadata": {},
   "source": [
    "The rest of the data for the rows with missing values appears to be valid, so I am hesitant to remove these rows entirely from analysis at this point. I would like to see if there are any trends that distinguish this group from the rest of the data to understand why this information might be missing. "
   ]
  },
  {
   "cell_type": "code",
   "execution_count": null,
   "id": "83917035-7934-4244-968a-aacf23a1a740",
   "metadata": {},
   "outputs": [],
   "source": [
    "    "
   ]
  },
  {
   "cell_type": "markdown",
   "id": "cb3220c2-7669-45eb-bff8-9c840538ca42",
   "metadata": {},
   "source": [
    "## Categorical Data Summarization"
   ]
  },
  {
   "cell_type": "code",
   "execution_count": 55,
   "id": "a40b4dda-1e9e-4d55-99a7-41434d170c82",
   "metadata": {
    "editable": true,
    "slideshow": {
     "slide_type": ""
    },
    "tags": []
   },
   "outputs": [
    {
     "data": {
      "text/html": [
       "<div>\n",
       "<style scoped>\n",
       "    .dataframe tbody tr th:only-of-type {\n",
       "        vertical-align: middle;\n",
       "    }\n",
       "\n",
       "    .dataframe tbody tr th {\n",
       "        vertical-align: top;\n",
       "    }\n",
       "\n",
       "    .dataframe thead th {\n",
       "        text-align: right;\n",
       "    }\n",
       "</style>\n",
       "<table border=\"1\" class=\"dataframe\">\n",
       "  <thead>\n",
       "    <tr style=\"text-align: right;\">\n",
       "      <th></th>\n",
       "      <th>age_group</th>\n",
       "      <th>age_cat</th>\n",
       "    </tr>\n",
       "  </thead>\n",
       "  <tbody>\n",
       "    <tr>\n",
       "      <th>0</th>\n",
       "      <td>1.0</td>\n",
       "      <td>none</td>\n",
       "    </tr>\n",
       "    <tr>\n",
       "      <th>1</th>\n",
       "      <td>5.0</td>\n",
       "      <td>none</td>\n",
       "    </tr>\n",
       "    <tr>\n",
       "      <th>2</th>\n",
       "      <td>3.0</td>\n",
       "      <td>none</td>\n",
       "    </tr>\n",
       "    <tr>\n",
       "      <th>3</th>\n",
       "      <td>0.0</td>\n",
       "      <td>none</td>\n",
       "    </tr>\n",
       "    <tr>\n",
       "      <th>4</th>\n",
       "      <td>5.0</td>\n",
       "      <td>none</td>\n",
       "    </tr>\n",
       "    <tr>\n",
       "      <th>5</th>\n",
       "      <td>2.0</td>\n",
       "      <td>none</td>\n",
       "    </tr>\n",
       "    <tr>\n",
       "      <th>6</th>\n",
       "      <td>2.0</td>\n",
       "      <td>none</td>\n",
       "    </tr>\n",
       "    <tr>\n",
       "      <th>7</th>\n",
       "      <td>1.0</td>\n",
       "      <td>none</td>\n",
       "    </tr>\n",
       "    <tr>\n",
       "      <th>8</th>\n",
       "      <td>4.0</td>\n",
       "      <td>none</td>\n",
       "    </tr>\n",
       "    <tr>\n",
       "      <th>9</th>\n",
       "      <td>0.0</td>\n",
       "      <td>none</td>\n",
       "    </tr>\n",
       "  </tbody>\n",
       "</table>\n",
       "</div>"
      ],
      "text/plain": [
       "   age_group age_cat\n",
       "0        1.0    none\n",
       "1        5.0    none\n",
       "2        3.0    none\n",
       "3        0.0    none\n",
       "4        5.0    none\n",
       "5        2.0    none\n",
       "6        2.0    none\n",
       "7        1.0    none\n",
       "8        4.0    none\n",
       "9        0.0    none"
      ]
     },
     "execution_count": 55,
     "metadata": {},
     "output_type": "execute_result"
    }
   ],
   "source": [
    "df['age_cat'] = \"none\" # create new column for age categorical data\n",
    "\n",
    "df[['age_group', 'age_cat']].head(10) # verify"
   ]
  },
  {
   "cell_type": "code",
   "execution_count": 56,
   "id": "0060e953-4596-4dd7-8956-c5d68d8e585e",
   "metadata": {
    "editable": true,
    "slideshow": {
     "slide_type": ""
    },
    "tags": []
   },
   "outputs": [],
   "source": [
    "# create the category mapping\n",
    "cat_mapping = {0:'over 65',\n",
    "               1:'18-25',\n",
    "               2:'26-35',\n",
    "               3:'36-45',\n",
    "               4:'46-55',\n",
    "               5:'56-65'}"
   ]
  },
  {
   "cell_type": "code",
   "execution_count": 57,
   "id": "4e7dc60e-be8b-440b-924f-50fd9ca368df",
   "metadata": {},
   "outputs": [],
   "source": [
    "# use the mapping to fill the categorical data column\n",
    "df['age_cat'] = df['age_group'].map(cat_mapping)"
   ]
  },
  {
   "cell_type": "code",
   "execution_count": 59,
   "id": "fe00e34f-f78d-4ef5-bf8e-cbd98c084f4a",
   "metadata": {},
   "outputs": [
    {
     "data": {
      "text/html": [
       "<div>\n",
       "<style scoped>\n",
       "    .dataframe tbody tr th:only-of-type {\n",
       "        vertical-align: middle;\n",
       "    }\n",
       "\n",
       "    .dataframe tbody tr th {\n",
       "        vertical-align: top;\n",
       "    }\n",
       "\n",
       "    .dataframe thead th {\n",
       "        text-align: right;\n",
       "    }\n",
       "</style>\n",
       "<table border=\"1\" class=\"dataframe\">\n",
       "  <thead>\n",
       "    <tr style=\"text-align: right;\">\n",
       "      <th></th>\n",
       "      <th>age_cat</th>\n",
       "      <th>age_group</th>\n",
       "    </tr>\n",
       "  </thead>\n",
       "  <tbody>\n",
       "    <tr>\n",
       "      <th>0</th>\n",
       "      <td>18-25</td>\n",
       "      <td>1.0</td>\n",
       "    </tr>\n",
       "    <tr>\n",
       "      <th>1</th>\n",
       "      <td>56-65</td>\n",
       "      <td>5.0</td>\n",
       "    </tr>\n",
       "    <tr>\n",
       "      <th>2</th>\n",
       "      <td>36-45</td>\n",
       "      <td>3.0</td>\n",
       "    </tr>\n",
       "    <tr>\n",
       "      <th>3</th>\n",
       "      <td>over 65</td>\n",
       "      <td>0.0</td>\n",
       "    </tr>\n",
       "    <tr>\n",
       "      <th>4</th>\n",
       "      <td>56-65</td>\n",
       "      <td>5.0</td>\n",
       "    </tr>\n",
       "    <tr>\n",
       "      <th>5</th>\n",
       "      <td>26-35</td>\n",
       "      <td>2.0</td>\n",
       "    </tr>\n",
       "    <tr>\n",
       "      <th>6</th>\n",
       "      <td>26-35</td>\n",
       "      <td>2.0</td>\n",
       "    </tr>\n",
       "    <tr>\n",
       "      <th>7</th>\n",
       "      <td>18-25</td>\n",
       "      <td>1.0</td>\n",
       "    </tr>\n",
       "    <tr>\n",
       "      <th>8</th>\n",
       "      <td>46-55</td>\n",
       "      <td>4.0</td>\n",
       "    </tr>\n",
       "    <tr>\n",
       "      <th>9</th>\n",
       "      <td>over 65</td>\n",
       "      <td>0.0</td>\n",
       "    </tr>\n",
       "  </tbody>\n",
       "</table>\n",
       "</div>"
      ],
      "text/plain": [
       "   age_cat  age_group\n",
       "0    18-25        1.0\n",
       "1    56-65        5.0\n",
       "2    36-45        3.0\n",
       "3  over 65        0.0\n",
       "4    56-65        5.0\n",
       "5    26-35        2.0\n",
       "6    26-35        2.0\n",
       "7    18-25        1.0\n",
       "8    46-55        4.0\n",
       "9  over 65        0.0"
      ]
     },
     "execution_count": 59,
     "metadata": {},
     "output_type": "execute_result"
    }
   ],
   "source": [
    "df[['age_cat', 'age_group']].head(10) # verify accuracy"
   ]
  },
  {
   "cell_type": "code",
   "execution_count": 67,
   "id": "427fd8fd-fe4d-4d8a-819b-369b51c4b4b2",
   "metadata": {},
   "outputs": [
    {
     "data": {
      "text/plain": [
       "<Axes: xlabel='age_cat'>"
      ]
     },
     "execution_count": 67,
     "metadata": {},
     "output_type": "execute_result"
    },
    {
     "data": {
      "image/png": "[encoded data removed]",
      "text/plain": [
       "<Figure size 2560x1920 with 1 Axes>"
      ]
     },
     "metadata": {},
     "output_type": "display_data"
    }
   ],
   "source": [
    "# bar chart of age group distribution\n",
    "\n",
    "df['age_cat'].value_counts().plot(kind='bar')"
   ]
  },
  {
   "cell_type": "code",
   "execution_count": 99,
   "id": "d897e6d9-8b98-4f00-8b58-7cb9c4c10391",
   "metadata": {
    "editable": true,
    "slideshow": {
     "slide_type": ""
    },
    "tags": []
   },
   "outputs": [
    {
     "data": {
      "text/plain": [
       "smoker\n",
       "0    4331\n",
       "1    1758\n",
       "Name: count, dtype: int64"
      ]
     },
     "execution_count": 99,
     "metadata": {},
     "output_type": "execute_result"
    }
   ],
   "source": [
    "df['smoker'].value_counts() # 0: non-smoker; 1: smoker"
   ]
  },
  {
   "cell_type": "code",
   "execution_count": 92,
   "id": "166d8b1d-38bf-48a5-a8d1-d00703131ad5",
   "metadata": {},
   "outputs": [
    {
     "data": {
      "text/plain": [
       "anxiety\n",
       "0    3309\n",
       "1    2780\n",
       "Name: count, dtype: int64"
      ]
     },
     "execution_count": 92,
     "metadata": {},
     "output_type": "execute_result"
    }
   ],
   "source": [
    "df['anxiety'].value_counts() # one if an individual feels anxious due to pandemic"
   ]
  },
  {
   "cell_type": "code",
   "execution_count": 93,
   "id": "f4ca66e6-8b4c-4d05-96f8-ece594ffdd5e",
   "metadata": {},
   "outputs": [
    {
     "data": {
      "text/plain": [
       "boredom\n",
       "0    3158\n",
       "1    2931\n",
       "Name: count, dtype: int64"
      ]
     },
     "execution_count": 93,
     "metadata": {},
     "output_type": "execute_result"
    }
   ],
   "source": [
    "df['boredom'].value_counts() # one if an individual feels bored due to pandemic"
   ]
  },
  {
   "cell_type": "code",
   "execution_count": 94,
   "id": "a5b39a95-91f7-4818-acbf-7f4486a6957d",
   "metadata": {},
   "outputs": [
    {
     "data": {
      "text/plain": [
       "troublesleep\n",
       "0    4585\n",
       "1    1504\n",
       "Name: count, dtype: int64"
      ]
     },
     "execution_count": 94,
     "metadata": {},
     "output_type": "execute_result"
    }
   ],
   "source": [
    "df['troublesleep'].value_counts() # one if an individual has insomnia due to pandemic"
   ]
  },
  {
   "cell_type": "code",
   "execution_count": 95,
   "id": "4f89af5b-d35f-44b7-a0f1-879a5c002d3a",
   "metadata": {},
   "outputs": [
    {
     "data": {
      "text/plain": [
       "loneliness\n",
       "0    4502\n",
       "1    1587\n",
       "Name: count, dtype: int64"
      ]
     },
     "execution_count": 95,
     "metadata": {},
     "output_type": "execute_result"
    }
   ],
   "source": [
    "df['loneliness'].value_counts() # one if an individual feels lonely due to pandemic"
   ]
  },
  {
   "cell_type": "code",
   "execution_count": 96,
   "id": "2cdee523-d2fa-488e-b8b5-118ad16aad32",
   "metadata": {},
   "outputs": [
    {
     "data": {
      "text/plain": [
       "lostjob\n",
       "0    4254\n",
       "1    1835\n",
       "Name: count, dtype: int64"
      ]
     },
     "execution_count": 96,
     "metadata": {},
     "output_type": "execute_result"
    }
   ],
   "source": [
    "df['lostjob'].value_counts() # one if individual has lost job due to pandemic"
   ]
  },
  {
   "cell_type": "code",
   "execution_count": 97,
   "id": "a292eee3-a170-4195-b6bb-ee083dafceb9",
   "metadata": {},
   "outputs": [
    {
     "data": {
      "text/plain": [
       "mortgage\n",
       "0    4409\n",
       "1    1680\n",
       "Name: count, dtype: int64"
      ]
     },
     "execution_count": 97,
     "metadata": {},
     "output_type": "execute_result"
    }
   ],
   "source": [
    "df['mortgage'].value_counts() # one if an indivudall has a mortgage"
   ]
  },
  {
   "cell_type": "code",
   "execution_count": 88,
   "id": "4b528534-a821-4ba6-9d9b-92e1e2c201c0",
   "metadata": {},
   "outputs": [
    {
     "data": {
      "text/plain": [
       "current_living_area\n",
       "0     822\n",
       "1    2294\n",
       "2    2973\n",
       "Name: count, dtype: int64"
      ]
     },
     "execution_count": 88,
     "metadata": {},
     "output_type": "execute_result"
    }
   ],
   "source": [
    "df['current_living_area'].value_counts().sort_index()\n",
    "\n",
    "# 0 for rural, 1 for semi-urban, 2 for urban"
   ]
  },
  {
   "cell_type": "code",
   "execution_count": 98,
   "id": "e57ca0ef-692d-4247-bc64-dff7614b294b",
   "metadata": {},
   "outputs": [
    {
     "data": {
      "text/plain": [
       "attended_religious_services\n",
       "0    5482\n",
       "1     607\n",
       "Name: count, dtype: int64"
      ]
     },
     "execution_count": 98,
     "metadata": {},
     "output_type": "execute_result"
    }
   ],
   "source": [
    "df['attended_religious_services'].value_counts() \n",
    "# one if an individual attends religious services"
   ]
  },
  {
   "cell_type": "code",
   "execution_count": 87,
   "id": "a3479c81-60b1-49d8-9331-106e4d50315d",
   "metadata": {
    "editable": true,
    "slideshow": {
     "slide_type": ""
    },
    "tags": []
   },
   "outputs": [
    {
     "data": {
      "text/plain": [
       "laborstatus\n",
       "0    1986\n",
       "1    2649\n",
       "2     769\n",
       "3     685\n",
       "Name: count, dtype: int64"
      ]
     },
     "execution_count": 87,
     "metadata": {},
     "output_type": "execute_result"
    }
   ],
   "source": [
    "df['laborstatus'].value_counts().sort_index()\n",
    "\n",
    "# 0  for individuals not employed,\n",
    "# 1 for full employed, \n",
    "# 2 for part-time employed, \n",
    "# 3 for self employed"
   ]
  },
  {
   "cell_type": "markdown",
   "id": "94ca2975-2f04-49ea-9e70-342c51c94097",
   "metadata": {},
   "source": [
    "## Loneliness Correlations\n",
    "\n",
    "Since I will run several chi-square tests to examine potential correlations between loneliness and other variables, I will use the Bonferri Correction to address the potential for bias due to mutliple tests.\n",
    "\n",
    "**Intuition:** I would imagine that loneliness is highly correlated with anxiety, trouble sleeping, and job loss. I am curious if there are also trends across gender, age groups, income groups, and rural/urban location. "
   ]
  },
  {
   "cell_type": "code",
   "execution_count": 100,
   "id": "af62d6e9-ae1d-4fc9-8927-45b066c78906",
   "metadata": {},
   "outputs": [],
   "source": [
    "from scipy.stats import chi2_contingency"
   ]
  },
  {
   "cell_type": "code",
   "execution_count": 101,
   "id": "4384ba77-69f6-4f36-9df3-cbc712df62f5",
   "metadata": {},
   "outputs": [
    {
     "data": {
      "text/html": [
       "<div>\n",
       "<style scoped>\n",
       "    .dataframe tbody tr th:only-of-type {\n",
       "        vertical-align: middle;\n",
       "    }\n",
       "\n",
       "    .dataframe tbody tr th {\n",
       "        vertical-align: top;\n",
       "    }\n",
       "\n",
       "    .dataframe thead th {\n",
       "        text-align: right;\n",
       "    }\n",
       "</style>\n",
       "<table border=\"1\" class=\"dataframe\">\n",
       "  <thead>\n",
       "    <tr style=\"text-align: right;\">\n",
       "      <th>anxiety</th>\n",
       "      <th>0</th>\n",
       "      <th>1</th>\n",
       "    </tr>\n",
       "    <tr>\n",
       "      <th>loneliness</th>\n",
       "      <th></th>\n",
       "      <th></th>\n",
       "    </tr>\n",
       "  </thead>\n",
       "  <tbody>\n",
       "    <tr>\n",
       "      <th>0</th>\n",
       "      <td>2638</td>\n",
       "      <td>1864</td>\n",
       "    </tr>\n",
       "    <tr>\n",
       "      <th>1</th>\n",
       "      <td>671</td>\n",
       "      <td>916</td>\n",
       "    </tr>\n",
       "  </tbody>\n",
       "</table>\n",
       "</div>"
      ],
      "text/plain": [
       "anxiety        0     1\n",
       "loneliness            \n",
       "0           2638  1864\n",
       "1            671   916"
      ]
     },
     "execution_count": 101,
     "metadata": {},
     "output_type": "execute_result"
    }
   ],
   "source": [
    "lon_anx = pd.crosstab(df['loneliness'], df['anxiety'])\n",
    "lon_anx"
   ]
  },
  {
   "cell_type": "code",
   "execution_count": 102,
   "id": "292bc288-9141-4343-a000-46502ed49c4d",
   "metadata": {},
   "outputs": [
    {
     "name": "stdout",
     "output_type": "stream",
     "text": [
      "Chi2 result of the contingency table: 125.22677588897963, p-value: 4.5398465495645206e-29\n"
     ]
    }
   ],
   "source": [
    "chi2, p, dof, ex = chi2_contingency(lon_anx, correction=True)\n",
    "print(f\"Chi2 result of the contingency table: {chi2}, p-value: {p}\")"
   ]
  },
  {
   "cell_type": "code",
   "execution_count": 103,
   "id": "92de7efd-7349-4dab-a0b8-562144e2cac7",
   "metadata": {},
   "outputs": [
    {
     "data": {
      "text/html": [
       "<div>\n",
       "<style scoped>\n",
       "    .dataframe tbody tr th:only-of-type {\n",
       "        vertical-align: middle;\n",
       "    }\n",
       "\n",
       "    .dataframe tbody tr th {\n",
       "        vertical-align: top;\n",
       "    }\n",
       "\n",
       "    .dataframe thead th {\n",
       "        text-align: right;\n",
       "    }\n",
       "</style>\n",
       "<table border=\"1\" class=\"dataframe\">\n",
       "  <thead>\n",
       "    <tr style=\"text-align: right;\">\n",
       "      <th>boredom</th>\n",
       "      <th>0</th>\n",
       "      <th>1</th>\n",
       "    </tr>\n",
       "    <tr>\n",
       "      <th>loneliness</th>\n",
       "      <th></th>\n",
       "      <th></th>\n",
       "    </tr>\n",
       "  </thead>\n",
       "  <tbody>\n",
       "    <tr>\n",
       "      <th>0</th>\n",
       "      <td>2632</td>\n",
       "      <td>1870</td>\n",
       "    </tr>\n",
       "    <tr>\n",
       "      <th>1</th>\n",
       "      <td>526</td>\n",
       "      <td>1061</td>\n",
       "    </tr>\n",
       "  </tbody>\n",
       "</table>\n",
       "</div>"
      ],
      "text/plain": [
       "boredom        0     1\n",
       "loneliness            \n",
       "0           2632  1870\n",
       "1            526  1061"
      ]
     },
     "execution_count": 103,
     "metadata": {},
     "output_type": "execute_result"
    }
   ],
   "source": [
    "lon_bor = pd.crosstab(df['loneliness'], df['boredom'])\n",
    "lon_bor"
   ]
  },
  {
   "cell_type": "code",
   "execution_count": 104,
   "id": "7edac64f-9781-4fc9-945d-f58a7bbb0e16",
   "metadata": {},
   "outputs": [
    {
     "name": "stdout",
     "output_type": "stream",
     "text": [
      "Chi2 result of the contingency table: 300.27349321436657, p-value: 2.8720136500308016e-67\n"
     ]
    }
   ],
   "source": [
    "chi2, p, dof, ex = chi2_contingency(lon_bor, correction=True)\n",
    "print(f\"Chi2 result of the contingency table: {chi2}, p-value: {p}\")"
   ]
  },
  {
   "cell_type": "code",
   "execution_count": 105,
   "id": "3f69fb29-07da-4dc3-a0cd-6c226530c6de",
   "metadata": {},
   "outputs": [
    {
     "data": {
      "text/html": [
       "<div>\n",
       "<style scoped>\n",
       "    .dataframe tbody tr th:only-of-type {\n",
       "        vertical-align: middle;\n",
       "    }\n",
       "\n",
       "    .dataframe tbody tr th {\n",
       "        vertical-align: top;\n",
       "    }\n",
       "\n",
       "    .dataframe thead th {\n",
       "        text-align: right;\n",
       "    }\n",
       "</style>\n",
       "<table border=\"1\" class=\"dataframe\">\n",
       "  <thead>\n",
       "    <tr style=\"text-align: right;\">\n",
       "      <th>lostjob</th>\n",
       "      <th>0</th>\n",
       "      <th>1</th>\n",
       "    </tr>\n",
       "    <tr>\n",
       "      <th>loneliness</th>\n",
       "      <th></th>\n",
       "      <th></th>\n",
       "    </tr>\n",
       "  </thead>\n",
       "  <tbody>\n",
       "    <tr>\n",
       "      <th>0</th>\n",
       "      <td>3343</td>\n",
       "      <td>1159</td>\n",
       "    </tr>\n",
       "    <tr>\n",
       "      <th>1</th>\n",
       "      <td>911</td>\n",
       "      <td>676</td>\n",
       "    </tr>\n",
       "  </tbody>\n",
       "</table>\n",
       "</div>"
      ],
      "text/plain": [
       "lostjob        0     1\n",
       "loneliness            \n",
       "0           3343  1159\n",
       "1            911   676"
      ]
     },
     "execution_count": 105,
     "metadata": {},
     "output_type": "execute_result"
    }
   ],
   "source": [
    "lon_job = pd.crosstab(df['loneliness'], df['lostjob'])\n",
    "lon_job"
   ]
  },
  {
   "cell_type": "code",
   "execution_count": 106,
   "id": "be2b7eab-6e6a-42ea-a1a4-a14fd46767e4",
   "metadata": {},
   "outputs": [
    {
     "name": "stdout",
     "output_type": "stream",
     "text": [
      "Chi2 result of the contingency table: 157.4699084304213, p-value: 4.04082130952028e-36\n"
     ]
    }
   ],
   "source": [
    "chi2, p, dof, ex = chi2_contingency(lon_job, correction=True)\n",
    "print(f\"Chi2 result of the contingency table: {chi2}, p-value: {p}\")"
   ]
  },
  {
   "cell_type": "code",
   "execution_count": 107,
   "id": "f213b3e6-4df4-410a-a0b9-088f613f2531",
   "metadata": {},
   "outputs": [
    {
     "data": {
      "text/html": [
       "<div>\n",
       "<style scoped>\n",
       "    .dataframe tbody tr th:only-of-type {\n",
       "        vertical-align: middle;\n",
       "    }\n",
       "\n",
       "    .dataframe tbody tr th {\n",
       "        vertical-align: top;\n",
       "    }\n",
       "\n",
       "    .dataframe thead th {\n",
       "        text-align: right;\n",
       "    }\n",
       "</style>\n",
       "<table border=\"1\" class=\"dataframe\">\n",
       "  <thead>\n",
       "    <tr style=\"text-align: right;\">\n",
       "      <th>troublesleep</th>\n",
       "      <th>0</th>\n",
       "      <th>1</th>\n",
       "    </tr>\n",
       "    <tr>\n",
       "      <th>loneliness</th>\n",
       "      <th></th>\n",
       "      <th></th>\n",
       "    </tr>\n",
       "  </thead>\n",
       "  <tbody>\n",
       "    <tr>\n",
       "      <th>0</th>\n",
       "      <td>3648</td>\n",
       "      <td>854</td>\n",
       "    </tr>\n",
       "    <tr>\n",
       "      <th>1</th>\n",
       "      <td>937</td>\n",
       "      <td>650</td>\n",
       "    </tr>\n",
       "  </tbody>\n",
       "</table>\n",
       "</div>"
      ],
      "text/plain": [
       "troublesleep     0    1\n",
       "loneliness             \n",
       "0             3648  854\n",
       "1              937  650"
      ]
     },
     "execution_count": 107,
     "metadata": {},
     "output_type": "execute_result"
    }
   ],
   "source": [
    "lon_sleep = pd.crosstab(df['loneliness'], df['troublesleep'])\n",
    "lon_sleep"
   ]
  },
  {
   "cell_type": "code",
   "execution_count": 108,
   "id": "f1d5e8c3-1ad1-4166-81ff-dc30e4a2e10c",
   "metadata": {},
   "outputs": [
    {
     "name": "stdout",
     "output_type": "stream",
     "text": [
      "Chi2 result of the contingency table: 303.8400046237752, p-value: 4.799335508135462e-68\n"
     ]
    }
   ],
   "source": [
    "chi2, p, dof, ex = chi2_contingency(lon_sleep, correction=True)\n",
    "print(f\"Chi2 result of the contingency table: {chi2}, p-value: {p}\")"
   ]
  },
  {
   "cell_type": "code",
   "execution_count": 109,
   "id": "5b430bb3-26e3-4324-9c5a-349ebf52c57d",
   "metadata": {},
   "outputs": [
    {
     "data": {
      "text/html": [
       "<div>\n",
       "<style scoped>\n",
       "    .dataframe tbody tr th:only-of-type {\n",
       "        vertical-align: middle;\n",
       "    }\n",
       "\n",
       "    .dataframe tbody tr th {\n",
       "        vertical-align: top;\n",
       "    }\n",
       "\n",
       "    .dataframe thead th {\n",
       "        text-align: right;\n",
       "    }\n",
       "</style>\n",
       "<table border=\"1\" class=\"dataframe\">\n",
       "  <thead>\n",
       "    <tr style=\"text-align: right;\">\n",
       "      <th>gender</th>\n",
       "      <th>0.0</th>\n",
       "      <th>1.0</th>\n",
       "    </tr>\n",
       "    <tr>\n",
       "      <th>loneliness</th>\n",
       "      <th></th>\n",
       "      <th></th>\n",
       "    </tr>\n",
       "  </thead>\n",
       "  <tbody>\n",
       "    <tr>\n",
       "      <th>0</th>\n",
       "      <td>2244</td>\n",
       "      <td>2255</td>\n",
       "    </tr>\n",
       "    <tr>\n",
       "      <th>1</th>\n",
       "      <td>703</td>\n",
       "      <td>883</td>\n",
       "    </tr>\n",
       "  </tbody>\n",
       "</table>\n",
       "</div>"
      ],
      "text/plain": [
       "gender       0.0   1.0\n",
       "loneliness            \n",
       "0           2244  2255\n",
       "1            703   883"
      ]
     },
     "execution_count": 109,
     "metadata": {},
     "output_type": "execute_result"
    }
   ],
   "source": [
    "lon_gen = pd.crosstab(df['loneliness'], df['gender'])\n",
    "lon_gen"
   ]
  },
  {
   "cell_type": "code",
   "execution_count": 110,
   "id": "84019e4b-f6dd-4ac3-a3b1-c7aca73f5bea",
   "metadata": {},
   "outputs": [
    {
     "name": "stdout",
     "output_type": "stream",
     "text": [
      "Chi2 result of the contingency table: 14.253211843669401, p-value: 0.00015978788821459418\n"
     ]
    }
   ],
   "source": [
    "chi2, p, dof, ex = chi2_contingency(lon_gen, correction=True)\n",
    "print(f\"Chi2 result of the contingency table: {chi2}, p-value: {p}\")"
   ]
  },
  {
   "cell_type": "markdown",
   "id": "ba0c5ac3-2f1b-46db-b8aa-253f4c561b15",
   "metadata": {},
   "source": [
    "This result indicates that there is likely a correlation between gender and loneliness, so it might be worth doing a post-hoc test to examine which gender is more likely to experience lonelines."
   ]
  },
  {
   "cell_type": "code",
   "execution_count": 111,
   "id": "36385881-15a7-40cb-81d5-646c7f5475f5",
   "metadata": {},
   "outputs": [
    {
     "data": {
      "text/html": [
       "<div>\n",
       "<style scoped>\n",
       "    .dataframe tbody tr th:only-of-type {\n",
       "        vertical-align: middle;\n",
       "    }\n",
       "\n",
       "    .dataframe tbody tr th {\n",
       "        vertical-align: top;\n",
       "    }\n",
       "\n",
       "    .dataframe thead th {\n",
       "        text-align: right;\n",
       "    }\n",
       "</style>\n",
       "<table border=\"1\" class=\"dataframe\">\n",
       "  <thead>\n",
       "    <tr style=\"text-align: right;\">\n",
       "      <th>age_cat</th>\n",
       "      <th>18-25</th>\n",
       "      <th>26-35</th>\n",
       "      <th>36-45</th>\n",
       "      <th>46-55</th>\n",
       "      <th>56-65</th>\n",
       "      <th>over 65</th>\n",
       "    </tr>\n",
       "    <tr>\n",
       "      <th>loneliness</th>\n",
       "      <th></th>\n",
       "      <th></th>\n",
       "      <th></th>\n",
       "      <th></th>\n",
       "      <th></th>\n",
       "      <th></th>\n",
       "    </tr>\n",
       "  </thead>\n",
       "  <tbody>\n",
       "    <tr>\n",
       "      <th>0</th>\n",
       "      <td>460</td>\n",
       "      <td>746</td>\n",
       "      <td>847</td>\n",
       "      <td>875</td>\n",
       "      <td>744</td>\n",
       "      <td>827</td>\n",
       "    </tr>\n",
       "    <tr>\n",
       "      <th>1</th>\n",
       "      <td>276</td>\n",
       "      <td>331</td>\n",
       "      <td>309</td>\n",
       "      <td>257</td>\n",
       "      <td>204</td>\n",
       "      <td>208</td>\n",
       "    </tr>\n",
       "  </tbody>\n",
       "</table>\n",
       "</div>"
      ],
      "text/plain": [
       "age_cat     18-25  26-35  36-45  46-55  56-65  over 65\n",
       "loneliness                                            \n",
       "0             460    746    847    875    744      827\n",
       "1             276    331    309    257    204      208"
      ]
     },
     "execution_count": 111,
     "metadata": {},
     "output_type": "execute_result"
    }
   ],
   "source": [
    "lon_age = pd.crosstab(df['loneliness'], df['age_cat'])\n",
    "lon_age"
   ]
  },
  {
   "cell_type": "code",
   "execution_count": 112,
   "id": "aabcee4c-50a8-452d-9405-a6217463ab7a",
   "metadata": {},
   "outputs": [
    {
     "name": "stdout",
     "output_type": "stream",
     "text": [
      "Chi2 result of the contingency table: 98.35294789159485, p-value: 1.175187059152287e-19\n"
     ]
    }
   ],
   "source": [
    "chi2, p, dof, ex = chi2_contingency(lon_age, correction = True)\n",
    "print(f\"Chi2 result of the contingency table: {chi2}, p-value: {p}\")"
   ]
  },
  {
   "cell_type": "markdown",
   "id": "2ec8d113-c34a-47b7-89f2-fa2aacd5948a",
   "metadata": {},
   "source": [
    "This result indicates that there is likely a correlation between age group and loneliness, so it might be worth doing a post-hoc test to examine which group(s) are more likely to experience lonelines."
   ]
  },
  {
   "cell_type": "code",
   "execution_count": 113,
   "id": "775e2617-79e5-48ae-a704-7673a6de48ae",
   "metadata": {},
   "outputs": [
    {
     "data": {
      "text/html": [
       "<div>\n",
       "<style scoped>\n",
       "    .dataframe tbody tr th:only-of-type {\n",
       "        vertical-align: middle;\n",
       "    }\n",
       "\n",
       "    .dataframe tbody tr th {\n",
       "        vertical-align: top;\n",
       "    }\n",
       "\n",
       "    .dataframe thead th {\n",
       "        text-align: right;\n",
       "    }\n",
       "</style>\n",
       "<table border=\"1\" class=\"dataframe\">\n",
       "  <thead>\n",
       "    <tr style=\"text-align: right;\">\n",
       "      <th>income_group</th>\n",
       "      <th>0.0</th>\n",
       "      <th>1.0</th>\n",
       "      <th>2.0</th>\n",
       "      <th>3.0</th>\n",
       "      <th>4.0</th>\n",
       "    </tr>\n",
       "    <tr>\n",
       "      <th>loneliness</th>\n",
       "      <th></th>\n",
       "      <th></th>\n",
       "      <th></th>\n",
       "      <th></th>\n",
       "      <th></th>\n",
       "    </tr>\n",
       "  </thead>\n",
       "  <tbody>\n",
       "    <tr>\n",
       "      <th>0</th>\n",
       "      <td>810</td>\n",
       "      <td>827</td>\n",
       "      <td>955</td>\n",
       "      <td>986</td>\n",
       "      <td>825</td>\n",
       "    </tr>\n",
       "    <tr>\n",
       "      <th>1</th>\n",
       "      <td>327</td>\n",
       "      <td>299</td>\n",
       "      <td>314</td>\n",
       "      <td>329</td>\n",
       "      <td>278</td>\n",
       "    </tr>\n",
       "  </tbody>\n",
       "</table>\n",
       "</div>"
      ],
      "text/plain": [
       "income_group  0.0  1.0  2.0  3.0  4.0\n",
       "loneliness                           \n",
       "0             810  827  955  986  825\n",
       "1             327  299  314  329  278"
      ]
     },
     "execution_count": 113,
     "metadata": {},
     "output_type": "execute_result"
    }
   ],
   "source": [
    "lon_inc = pd.crosstab(df['loneliness'], df['income_group'])\n",
    "lon_inc"
   ]
  },
  {
   "cell_type": "code",
   "execution_count": 114,
   "id": "e3650ea7-80d3-418e-a420-7bc9c8404615",
   "metadata": {},
   "outputs": [
    {
     "name": "stdout",
     "output_type": "stream",
     "text": [
      "Chi2 result of the contingency table: 6.74270327373131, p-value: 0.15012614426531778\n"
     ]
    }
   ],
   "source": [
    "chi2, p, dof, ex = chi2_contingency(lon_inc, correction = True)\n",
    "print(f\"Chi2 result of the contingency table: {chi2}, p-value: {p}\")"
   ]
  },
  {
   "cell_type": "markdown",
   "id": "d1c9e30b-0ae9-4d54-808a-7ea6f39c1134",
   "metadata": {},
   "source": [
    "There does **not** appear to be a significant correlation between income group and loneliness."
   ]
  },
  {
   "cell_type": "code",
   "execution_count": 115,
   "id": "f54adaef-b243-483c-a4f0-12b80058a480",
   "metadata": {},
   "outputs": [
    {
     "data": {
      "text/html": [
       "<div>\n",
       "<style scoped>\n",
       "    .dataframe tbody tr th:only-of-type {\n",
       "        vertical-align: middle;\n",
       "    }\n",
       "\n",
       "    .dataframe tbody tr th {\n",
       "        vertical-align: top;\n",
       "    }\n",
       "\n",
       "    .dataframe thead th {\n",
       "        text-align: right;\n",
       "    }\n",
       "</style>\n",
       "<table border=\"1\" class=\"dataframe\">\n",
       "  <thead>\n",
       "    <tr style=\"text-align: right;\">\n",
       "      <th>current_living_area</th>\n",
       "      <th>0</th>\n",
       "      <th>1</th>\n",
       "      <th>2</th>\n",
       "    </tr>\n",
       "    <tr>\n",
       "      <th>loneliness</th>\n",
       "      <th></th>\n",
       "      <th></th>\n",
       "      <th></th>\n",
       "    </tr>\n",
       "  </thead>\n",
       "  <tbody>\n",
       "    <tr>\n",
       "      <th>0</th>\n",
       "      <td>645</td>\n",
       "      <td>1697</td>\n",
       "      <td>2160</td>\n",
       "    </tr>\n",
       "    <tr>\n",
       "      <th>1</th>\n",
       "      <td>177</td>\n",
       "      <td>597</td>\n",
       "      <td>813</td>\n",
       "    </tr>\n",
       "  </tbody>\n",
       "</table>\n",
       "</div>"
      ],
      "text/plain": [
       "current_living_area    0     1     2\n",
       "loneliness                          \n",
       "0                    645  1697  2160\n",
       "1                    177   597   813"
      ]
     },
     "execution_count": 115,
     "metadata": {},
     "output_type": "execute_result"
    }
   ],
   "source": [
    "lon_loc = pd.crosstab(df['loneliness'], df['current_living_area'])\n",
    "lon_loc"
   ]
  },
  {
   "cell_type": "code",
   "execution_count": 116,
   "id": "3e40fac1-e709-4fb8-9cdb-79d9f8ff074a",
   "metadata": {},
   "outputs": [
    {
     "name": "stdout",
     "output_type": "stream",
     "text": [
      "Chi2 result of the contingency table: 11.295795426437888, p-value: 0.003524919382405724\n"
     ]
    }
   ],
   "source": [
    "chi2, p, dof, ex = chi2_contingency(lon_loc, correction=True)\n",
    "print(f\"Chi2 result of the contingency table: {chi2}, p-value: {p}\")"
   ]
  },
  {
   "cell_type": "markdown",
   "id": "d7a27ef9-0947-4f93-9423-9013a8790225",
   "metadata": {},
   "source": [
    "This result indicates that there is likely a correlation between living location and loneliness, so it might be worth doing a post-hoc test to examine in which locations people are more likely to experience lonelines."
   ]
  },
  {
   "cell_type": "code",
   "execution_count": null,
   "id": "a90658c4-9124-49f1-a025-6c13fd0d12aa",
   "metadata": {},
   "outputs": [],
   "source": []
  }
 ],
 "metadata": {
  "kernelspec": {
   "display_name": "Python 3 (ipykernel)",
   "language": "python",
   "name": "python3"
  },
  "language_info": {
   "codemirror_mode": {
    "name": "ipython",
    "version": 3
   },
   "file_extension": ".py",
   "mimetype": "text/x-python",
   "name": "python",
   "nbconvert_exporter": "python",
   "pygments_lexer": "ipython3",
   "version": "3.10.7"
  }
 },
 "nbformat": 4,
 "nbformat_minor": 5
}
